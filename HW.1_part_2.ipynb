{
 "cells": [
  {
   "cell_type": "code",
   "execution_count": 37,
   "metadata": {
    "collapsed": true
   },
   "outputs": [],
   "source": [
    "import requests\n",
    "import bs4"
   ]
  },
  {
   "cell_type": "code",
   "execution_count": 38,
   "metadata": {
    "collapsed": true
   },
   "outputs": [],
   "source": [
    "req = requests.get('http://www.consultant.ru/document/cons_doc_LAW_10699/a109722731a0509e104278d1b2d2f589beee330f/')"
   ]
  },
  {
   "cell_type": "code",
   "execution_count": 39,
   "metadata": {
    "collapsed": false
   },
   "outputs": [
    {
     "name": "stdout",
     "output_type": "stream",
     "text": [
      "<class 'requests.models.Response'>\n"
     ]
    }
   ],
   "source": [
    "print type(req)"
   ]
  },
  {
   "cell_type": "code",
   "execution_count": 40,
   "metadata": {
    "collapsed": true
   },
   "outputs": [],
   "source": [
    "parser = bs4.BeautifulSoup(req.text,'lxml')"
   ]
  },
  {
   "cell_type": "code",
   "execution_count": 41,
   "metadata": {
    "collapsed": false
   },
   "outputs": [
    {
     "name": "stdout",
     "output_type": "stream",
     "text": [
      "<div class=\"text\">\n",
      "<h1>\n",
      "<a name=\"dst150\"></a><div class=\"U\" id=\"pl4207\" style=\"text-indent:9.64mm;\">\n",
      "<q class=\"br\" id=\"bkimg_c\" para=\"4266\" refdst=\"150,0\"></q><span class=\"blk\"><span>УК РФ, Статья 228. Незаконные приобретение, хранение, перевозка, изготовление, переработка наркотических средств, психотропных веществ или их аналогов, а также незаконные приобретение, хранение, перевозка растений, содержащих наркотические средства или психотропные вещества, либо их частей, содержащих наркотические средства или психотропные вещества</span></span>\n",
      "</div>\n",
      "</h1>\n",
      "<div class=\"insert nf pmrf\"><div class=\"U pmr\" id=\"pl4208\"><span class=\"blk\"><span>(в ред. Федерального </span><a href=\"/document/Cons_doc_LAW_100518/3d0cac60971a511280cbba229d9b6329c07731f7/#dst100012\"><span>закона</span></a><span> от 19.05.2010 N 87-ФЗ)</span></span></div></div>\n",
      "<div class=\"insert nf pmrl nmb\"><div class=\"UP pmr\" id=\"pl4209\"><span class=\"blk\"><span>(см. текст в предыдущей </span><q class=\"r\" dst=\"1\" fld=\"134\" id=\"r\" nb=\"LAW\" nd=\"102884\"><span>редакции</span></q><span>)</span></span></div></div>\n",
      "<div class=\"U\" id=\"pl4210\"><span class=\"blk\"> </span></div>\n",
      "<div class=\"insert nf pmrf nmt\">\n",
      "<a name=\"dst2\"></a><div class=\"U pmr\" id=\"pl4211\"><span class=\"blk\"><span>(в ред. Федерального </span><a href=\"/document/Cons_doc_LAW_45408/3d0cac60971a511280cbba229d9b6329c07731f7/#dst100659\"><span>закона</span></a><span> от 08.12.2003 N 162-ФЗ)</span></span></div>\n",
      "</div>\n",
      "<div class=\"insert nf pmrl nmb\"><div class=\"UP pmr\" id=\"pl4212\"><span class=\"blk\"><span>(см. текст в предыдущей </span><q class=\"r\" dst=\"101503\" fld=\"134\" id=\"r\" nb=\"LAW\" nd=\"45646\"><span>редакции</span></q><span>)</span></span></div></div>\n",
      "<div class=\"U\" id=\"pl4213\"><span class=\"blk\"> </span></div>\n",
      "<a name=\"dst1126\"></a><div class=\"U\" id=\"pl4214\" style=\"text-indent:9.64mm;\">\n",
      "<q class=\"br\" id=\"bkimg_cr\" para=\"4273\" refdst=\"1126,0\"></q><span class=\"blk\"><span>1. Незаконные </span><a href=\"/document/Cons_doc_LAW_61074/#dst100104\"><span>приобретение</span></a><span>, </span><a href=\"/document/Cons_doc_LAW_61074/#dst100105\"><span>хранение</span></a><span>, </span><a href=\"/document/Cons_doc_LAW_61074/#dst100106\"><span>перевозка</span></a><span>, </span><a href=\"/document/Cons_doc_LAW_61074/#dst100109\"><span>изготовление</span></a><span>, </span><q class=\"mr\" fld=\"134\" id=\"multiref\" off=\"63\" para=\"4273\" refdst=\"1126,0\"><span>переработка</span></q><span> без цели сбыта </span><q class=\"mr\" fld=\"134\" id=\"multiref\" off=\"90\" para=\"4273\" refdst=\"1126,0\"><span>наркотических средств</span></q><span>, </span><a href=\"/document/Cons_doc_LAW_17437/bb9e97fad9d14ac66df4b6e67c453d1be3b77b4c/#dst100013\"><span>психотропных веществ</span></a><span> или их </span><a href=\"/document/Cons_doc_LAW_17437/bb9e97fad9d14ac66df4b6e67c453d1be3b77b4c/#dst100015\"><span>аналогов</span></a><span> в значительном размере, а также незаконные приобретение, хранение, перевозка без цели сбыта </span><a href=\"/document/Cons_doc_LAW_107635/#dst100014\"><span>растений</span></a><span>, содержащих наркотические средства или психотропные вещества, либо их частей, содержащих наркотические средства или психотропные вещества, в значительном размере -</span></span>\n",
      "</div>\n",
      "<div class=\"insert nf pmrf\"><div class=\"U pmr\" id=\"pl4215\"><span class=\"blk\"><span>(в ред. Федерального </span><a href=\"/document/Cons_doc_LAW_126740/b004fed0b70d0f223e4a81f8ad6cd92af90a7e3b/#dst100025\"><span>закона</span></a><span> от 01.03.2012 N 18-ФЗ)</span></span></div></div>\n",
      "<div class=\"insert nf pmrl\"><div class=\"UP pmr\" id=\"pl4216\"><span class=\"blk\"><span>(см. текст в предыдущей </span><q class=\"r\" dst=\"151\" fld=\"134\" id=\"r\" nb=\"LAW\" nd=\"132982\"><span>редакции</span></q><span>)</span></span></div></div>\n",
      "<a name=\"dst860\"></a><div class=\"U\" id=\"pl4217\" style=\"text-indent:9.64mm;\"><span class=\"blk\"><span>наказываются штрафом в размере до сорока тысяч рублей или в размере заработной платы или иного дохода осужденного за период до трех месяцев, либо обязательными работами на срок до четырехсот восьмидесяти часов, либо исправительными работами на срок до двух лет, либо ограничением свободы на срок до трех лет, либо лишением свободы на тот же срок.</span></span></div>\n",
      "<div class=\"insert nf pmrf\"><div class=\"U pmr\" id=\"pl4218\"><span class=\"blk\"><span>(в ред. Федеральных законов от 27.12.2009 </span><a href=\"/document/Cons_doc_LAW_95509/3d0cac60971a511280cbba229d9b6329c07731f7/#dst100198\"><span>N 377-ФЗ</span></a><span>, от 06.05.2010 </span><a href=\"/document/Cons_doc_LAW_100140/3d0cac60971a511280cbba229d9b6329c07731f7/#dst100027\"><span>N 81-ФЗ</span></a><span>, от 07.12.2011 </span><a href=\"/document/Cons_doc_LAW_122864/3d0cac60971a511280cbba229d9b6329c07731f7/#dst100548\"><span>N 420-ФЗ</span></a><span>)</span></span></div></div>\n",
      "<div class=\"insert nf pmrl\"><div class=\"UP pmr\" id=\"pl4219\"><span class=\"blk\"><span>(см. текст в предыдущей </span><q class=\"r\" dst=\"103703\" fld=\"134\" id=\"r\" nb=\"LAW\" nd=\"121948\"><span>редакции</span></q><span>)</span></span></div></div>\n",
      "<a name=\"dst1127\"></a><div class=\"U\" id=\"pl4220\" style=\"text-indent:9.64mm;\">\n",
      "<q class=\"br\" id=\"bkimg_cr\" para=\"4279\" refdst=\"1127,0\"></q><span class=\"blk\"><span>2. Те же деяния, совершенные в крупном размере, -</span></span>\n",
      "</div>\n",
      "<div class=\"insert nf pmrf\"><div class=\"U pmr\" id=\"pl4221\"><span class=\"blk\"><span>(в ред. Федерального </span><a href=\"/document/Cons_doc_LAW_126740/b004fed0b70d0f223e4a81f8ad6cd92af90a7e3b/#dst100028\"><span>закона</span></a><span> от 01.03.2012 N 18-ФЗ)</span></span></div></div>\n",
      "<div class=\"insert nf pmrl\"><div class=\"UP pmr\" id=\"pl4222\"><span class=\"blk\"><span>(см. текст в предыдущей </span><q class=\"r\" dst=\"5\" fld=\"134\" id=\"r\" nb=\"LAW\" nd=\"132982\"><span>редакции</span></q><span>)</span></span></div></div>\n",
      "<a name=\"dst1128\"></a><div class=\"U\" id=\"pl4223\" style=\"text-indent:9.64mm;\"><span class=\"blk\"><span>наказываются лишением свободы на срок от трех до десяти лет со штрафом в размере до пятисот тысяч рублей или в размере заработной платы или иного дохода осужденного за период до трех лет либо без такового и с ограничением свободы на срок до одного года либо без такового.</span></span></div>\n",
      "<div class=\"insert nf pmrf\"><div class=\"U pmr\" id=\"pl4224\"><span class=\"blk\"><span>(в ред. Федерального </span><a href=\"/document/Cons_doc_LAW_126740/b004fed0b70d0f223e4a81f8ad6cd92af90a7e3b/#dst100029\"><span>закона</span></a><span> от 01.03.2012 N 18-ФЗ)</span></span></div></div>\n",
      "<div class=\"insert nf pmrl\"><div class=\"UP pmr\" id=\"pl4225\"><span class=\"blk\"><span>(см. текст в предыдущей </span><q class=\"r\" dst=\"6\" fld=\"134\" id=\"r\" nb=\"LAW\" nd=\"132982\"><span>редакции</span></q><span>)</span></span></div></div>\n",
      "<a name=\"dst1129\"></a><div class=\"U\" id=\"pl4226\" style=\"text-indent:9.64mm;\">\n",
      "<q class=\"br\" id=\"bkimg_cr\" para=\"4285\" refdst=\"1129,0\"></q><span class=\"blk\"><span>3. Те же деяния, совершенные в особо крупном размере, -</span></span>\n",
      "</div>\n",
      "<a name=\"dst1130\"></a><div class=\"U\" id=\"pl4227\" style=\"text-indent:9.64mm;\"><span class=\"blk\"><span>наказываются лишением свободы на срок от десяти до пятнадцати лет со штрафом в размере до пятисот тысяч рублей или в размере заработной платы или иного дохода осужденного за период до трех лет либо без такового и с ограничением свободы на срок до полутора лет либо без такового.</span></span></div>\n",
      "<div class=\"insert nf pmrf pmrl\"><div class=\"U pmr\" id=\"pl4228\"><span class=\"blk\"><span>(часть 3 введена Федеральным </span><a href=\"/document/Cons_doc_LAW_126740/b004fed0b70d0f223e4a81f8ad6cd92af90a7e3b/#dst100030\"><span>законом</span></a><span> от 01.03.2012 N 18-ФЗ)</span></span></div></div>\n",
      "<a name=\"dst152\"></a><div class=\"U\" id=\"pl4229\" style=\"text-indent:9.64mm;\">\n",
      "<q class=\"br\" id=\"bkimg_f\" para=\"4288\" refdst=\"152,0\"></q><span class=\"blk\"><span>Примечания. 1. Лицо, совершившее предусмотренное настоящей статьей преступление, </span><a href=\"/document/Cons_doc_LAW_61074/#dst100123\"><span>добровольно</span></a><span> сдавшее наркотические средства, психотропные вещества или их аналоги, растения, содержащие наркотические средства или психотропные вещества, либо их части, содержащие наркотические средства или психотропные вещества, и активно способствовавшее раскрытию или пресечению преступлений, связанных с незаконным оборотом указанных средств, веществ или их аналогов, а также с незаконными приобретением, хранением, перевозкой таких растений либо их частей, содержащих наркотические средства или психотропные вещества, изобличению лиц, их совершивших, обнаружению имущества, добытого преступным путем, освобождается от уголовной ответственности за данное преступление. Не может признаваться добровольной сдачей наркотических средств, психотропных веществ или их аналогов, растений, содержащих наркотические средства или психотропные вещества, либо их частей, содержащих наркотические средства или психотропные вещества, изъятие указанных средств, веществ или их аналогов, таких растений либо их частей, содержащих наркотические средства или психотропные вещества, при задержании лица и при производстве следственных действий по обнаружению и изъятию указанных средств, веществ или их аналогов, таких растений либо их частей, содержащих наркотические средства или психотропные вещества.</span></span>\n",
      "</div>\n",
      "<div class=\"insert nf pmrf\"><div class=\"U pmr\" id=\"pl4230\"><span class=\"blk\"><span>(п. 1 в ред. Федерального </span><a href=\"/document/Cons_doc_LAW_100518/3d0cac60971a511280cbba229d9b6329c07731f7/#dst100014\"><span>закона</span></a><span> от 19.05.2010 N 87-ФЗ)</span></span></div></div>\n",
      "<div class=\"insert nf pmrl\"><div class=\"UP pmr\" id=\"pl4231\"><span class=\"blk\"><span>(см. текст в предыдущей </span><q class=\"r\" dst=\"7\" fld=\"134\" id=\"r\" nb=\"LAW\" nd=\"102884\"><span>редакции</span></q><span>)</span></span></div></div>\n",
      "<a name=\"dst1131\"></a><div class=\"U\" id=\"pl4232\" style=\"text-indent:9.64mm;\">\n",
      "<q class=\"br\" id=\"bkimg_cr\" para=\"4291\" refdst=\"1131,0\"></q><span class=\"blk\"><span>2. Значительный, крупный и особо крупный </span><a href=\"/document/Cons_doc_LAW_136206/8c2bb85136d7f4c30dad60755a50550a31b7705e/#dst100032\"><span>размеры</span></a><span> наркотических средств и психотропных веществ, а также значительный, крупный и особо крупный </span><a href=\"/document/Cons_doc_LAW_136206/5763ccc9649a10040d5ce95f8ea21eb66b5c6063/#dst100370\"><span>размеры</span></a><span> для растений, содержащих наркотические средства или психотропные вещества, либо их частей, содержащих наркотические средства или психотропные вещества, для целей настоящей статьи, </span><a href=\"/document/Cons_doc_LAW_10699/c6e15d3f1ba69acd08e0639594df466ecdf1958d/#dst154\"><span>статей 228.1</span></a><span>, </span><a href=\"/document/Cons_doc_LAW_10699/8a8770950cc85acf85c3068c02e0d31aea7900d0/#dst157\"><span>229</span></a><span> и </span><a href=\"/document/Cons_doc_LAW_10699/82872099e82da083817266ed0dfddfda60d45d90/#dst864\"><span>229.1</span></a><span> настоящего Кодекса утверждаются Правительством Российской Федерации.</span></span>\n",
      "</div>\n",
      "<div class=\"insert nf pmrf\"><div class=\"U pmr\" id=\"pl4233\"><span class=\"blk\"><span>(в ред. Федеральных законов от 19.05.2010 </span><a href=\"/document/Cons_doc_LAW_100518/3d0cac60971a511280cbba229d9b6329c07731f7/#dst100016\"><span>N 87-ФЗ</span></a><span>, от 07.12.2011 </span><a href=\"/document/Cons_doc_LAW_122864/3d0cac60971a511280cbba229d9b6329c07731f7/#dst100549\"><span>N 420-ФЗ</span></a><span>, от 01.03.2012 </span><a href=\"/document/Cons_doc_LAW_126740/b004fed0b70d0f223e4a81f8ad6cd92af90a7e3b/#dst100034\"><span>N 18-ФЗ</span></a><span>)</span></span></div></div>\n",
      "<div class=\"insert nf pmrl\"><div class=\"UP pmr\" id=\"pl4234\"><span class=\"blk\"><span>(см. текст в предыдущей </span><q class=\"r\" dst=\"153\" fld=\"134\" id=\"r\" nb=\"LAW\" nd=\"132982\"><span>редакции</span></q><span>)</span></span></div></div>\n",
      "<a name=\"dst1132\"></a><div class=\"U\" id=\"pl4235\" style=\"text-indent:9.64mm;\"><span class=\"blk\"><span>3. Значительный, крупный и особо крупный размеры аналогов наркотических средств и психотропных веществ соответствуют значительному, крупному и особо крупному размерам наркотических средств и психотропных веществ, аналогами которых они являются.</span></span></div>\n",
      "<div class=\"insert nf pmrf\"><div class=\"U pmr\" id=\"pl4236\"><span class=\"blk\"><span>(п. 3 введен Федеральным </span><a href=\"/document/Cons_doc_LAW_57224/3d0cac60971a511280cbba229d9b6329c07731f7/#dst100012\"><span>законом</span></a><span> от 05.01.2006 N 11-ФЗ, в ред. Федерального </span><a href=\"/document/Cons_doc_LAW_126740/b004fed0b70d0f223e4a81f8ad6cd92af90a7e3b/#dst100035\"><span>закона</span></a><span> от 01.03.2012 N 18-ФЗ)</span></span></div></div>\n",
      "<div class=\"insert nf pmrl nmb\"><div class=\"UP pmr\" id=\"pl4237\"><span class=\"blk\"><span>(см. текст в предыдущей </span><q class=\"r\" dst=\"41\" fld=\"134\" id=\"r\" nb=\"LAW\" nd=\"132982\"><span>редакции</span></q><span>)</span></span></div></div>\n",
      "<div class=\"U\" id=\"pl4238\"><span class=\"blk\"> </span></div>\n",
      "</div>\n"
     ]
    }
   ],
   "source": [
    "print parser.find('div' , attrs={'class':'text'})"
   ]
  },
  {
   "cell_type": "code",
   "execution_count": 42,
   "metadata": {
    "collapsed": true
   },
   "outputs": [],
   "source": [
    "x = parser.find('div' , attrs={'class':'text'})"
   ]
  },
  {
   "cell_type": "code",
   "execution_count": 43,
   "metadata": {
    "collapsed": false
   },
   "outputs": [
    {
     "name": "stdout",
     "output_type": "stream",
     "text": [
      "<div class=\"text\">\n",
      "<h1>\n",
      "<a name=\"dst150\"></a><div class=\"U\" id=\"pl4207\" style=\"text-indent:9.64mm;\">\n",
      "<q class=\"br\" id=\"bkimg_c\" para=\"4266\" refdst=\"150,0\"></q><span class=\"blk\"><span>УК РФ, Статья 228. Незаконные приобретение, хранение, перевозка, изготовление, переработка наркотических средств, психотропных веществ или их аналогов, а также незаконные приобретение, хранение, перевозка растений, содержащих наркотические средства или психотропные вещества, либо их частей, содержащих наркотические средства или психотропные вещества</span></span>\n",
      "</div>\n",
      "</h1>\n",
      "<div class=\"insert nf pmrf\"><div class=\"U pmr\" id=\"pl4208\"><span class=\"blk\"><span>(в ред. Федерального </span><a href=\"/document/Cons_doc_LAW_100518/3d0cac60971a511280cbba229d9b6329c07731f7/#dst100012\"><span>закона</span></a><span> от 19.05.2010 N 87-ФЗ)</span></span></div></div>\n",
      "<div class=\"insert nf pmrl nmb\"><div class=\"UP pmr\" id=\"pl4209\"><span class=\"blk\"><span>(см. текст в предыдущей </span><q class=\"r\" dst=\"1\" fld=\"134\" id=\"r\" nb=\"LAW\" nd=\"102884\"><span>редакции</span></q><span>)</span></span></div></div>\n",
      "<div class=\"U\" id=\"pl4210\"><span class=\"blk\"> </span></div>\n",
      "<div class=\"insert nf pmrf nmt\">\n",
      "<a name=\"dst2\"></a><div class=\"U pmr\" id=\"pl4211\"><span class=\"blk\"><span>(в ред. Федерального </span><a href=\"/document/Cons_doc_LAW_45408/3d0cac60971a511280cbba229d9b6329c07731f7/#dst100659\"><span>закона</span></a><span> от 08.12.2003 N 162-ФЗ)</span></span></div>\n",
      "</div>\n",
      "<div class=\"insert nf pmrl nmb\"><div class=\"UP pmr\" id=\"pl4212\"><span class=\"blk\"><span>(см. текст в предыдущей </span><q class=\"r\" dst=\"101503\" fld=\"134\" id=\"r\" nb=\"LAW\" nd=\"45646\"><span>редакции</span></q><span>)</span></span></div></div>\n",
      "<div class=\"U\" id=\"pl4213\"><span class=\"blk\"> </span></div>\n",
      "<a name=\"dst1126\"></a><div class=\"U\" id=\"pl4214\" style=\"text-indent:9.64mm;\">\n",
      "<q class=\"br\" id=\"bkimg_cr\" para=\"4273\" refdst=\"1126,0\"></q><span class=\"blk\"><span>1. Незаконные </span><a href=\"/document/Cons_doc_LAW_61074/#dst100104\"><span>приобретение</span></a><span>, </span><a href=\"/document/Cons_doc_LAW_61074/#dst100105\"><span>хранение</span></a><span>, </span><a href=\"/document/Cons_doc_LAW_61074/#dst100106\"><span>перевозка</span></a><span>, </span><a href=\"/document/Cons_doc_LAW_61074/#dst100109\"><span>изготовление</span></a><span>, </span><q class=\"mr\" fld=\"134\" id=\"multiref\" off=\"63\" para=\"4273\" refdst=\"1126,0\"><span>переработка</span></q><span> без цели сбыта </span><q class=\"mr\" fld=\"134\" id=\"multiref\" off=\"90\" para=\"4273\" refdst=\"1126,0\"><span>наркотических средств</span></q><span>, </span><a href=\"/document/Cons_doc_LAW_17437/bb9e97fad9d14ac66df4b6e67c453d1be3b77b4c/#dst100013\"><span>психотропных веществ</span></a><span> или их </span><a href=\"/document/Cons_doc_LAW_17437/bb9e97fad9d14ac66df4b6e67c453d1be3b77b4c/#dst100015\"><span>аналогов</span></a><span> в значительном размере, а также незаконные приобретение, хранение, перевозка без цели сбыта </span><a href=\"/document/Cons_doc_LAW_107635/#dst100014\"><span>растений</span></a><span>, содержащих наркотические средства или психотропные вещества, либо их частей, содержащих наркотические средства или психотропные вещества, в значительном размере -</span></span>\n",
      "</div>\n",
      "<div class=\"insert nf pmrf\"><div class=\"U pmr\" id=\"pl4215\"><span class=\"blk\"><span>(в ред. Федерального </span><a href=\"/document/Cons_doc_LAW_126740/b004fed0b70d0f223e4a81f8ad6cd92af90a7e3b/#dst100025\"><span>закона</span></a><span> от 01.03.2012 N 18-ФЗ)</span></span></div></div>\n",
      "<div class=\"insert nf pmrl\"><div class=\"UP pmr\" id=\"pl4216\"><span class=\"blk\"><span>(см. текст в предыдущей </span><q class=\"r\" dst=\"151\" fld=\"134\" id=\"r\" nb=\"LAW\" nd=\"132982\"><span>редакции</span></q><span>)</span></span></div></div>\n",
      "<a name=\"dst860\"></a><div class=\"U\" id=\"pl4217\" style=\"text-indent:9.64mm;\"><span class=\"blk\"><span>наказываются штрафом в размере до сорока тысяч рублей или в размере заработной платы или иного дохода осужденного за период до трех месяцев, либо обязательными работами на срок до четырехсот восьмидесяти часов, либо исправительными работами на срок до двух лет, либо ограничением свободы на срок до трех лет, либо лишением свободы на тот же срок.</span></span></div>\n",
      "<div class=\"insert nf pmrf\"><div class=\"U pmr\" id=\"pl4218\"><span class=\"blk\"><span>(в ред. Федеральных законов от 27.12.2009 </span><a href=\"/document/Cons_doc_LAW_95509/3d0cac60971a511280cbba229d9b6329c07731f7/#dst100198\"><span>N 377-ФЗ</span></a><span>, от 06.05.2010 </span><a href=\"/document/Cons_doc_LAW_100140/3d0cac60971a511280cbba229d9b6329c07731f7/#dst100027\"><span>N 81-ФЗ</span></a><span>, от 07.12.2011 </span><a href=\"/document/Cons_doc_LAW_122864/3d0cac60971a511280cbba229d9b6329c07731f7/#dst100548\"><span>N 420-ФЗ</span></a><span>)</span></span></div></div>\n",
      "<div class=\"insert nf pmrl\"><div class=\"UP pmr\" id=\"pl4219\"><span class=\"blk\"><span>(см. текст в предыдущей </span><q class=\"r\" dst=\"103703\" fld=\"134\" id=\"r\" nb=\"LAW\" nd=\"121948\"><span>редакции</span></q><span>)</span></span></div></div>\n",
      "<a name=\"dst1127\"></a><div class=\"U\" id=\"pl4220\" style=\"text-indent:9.64mm;\">\n",
      "<q class=\"br\" id=\"bkimg_cr\" para=\"4279\" refdst=\"1127,0\"></q><span class=\"blk\"><span>2. Те же деяния, совершенные в крупном размере, -</span></span>\n",
      "</div>\n",
      "<div class=\"insert nf pmrf\"><div class=\"U pmr\" id=\"pl4221\"><span class=\"blk\"><span>(в ред. Федерального </span><a href=\"/document/Cons_doc_LAW_126740/b004fed0b70d0f223e4a81f8ad6cd92af90a7e3b/#dst100028\"><span>закона</span></a><span> от 01.03.2012 N 18-ФЗ)</span></span></div></div>\n",
      "<div class=\"insert nf pmrl\"><div class=\"UP pmr\" id=\"pl4222\"><span class=\"blk\"><span>(см. текст в предыдущей </span><q class=\"r\" dst=\"5\" fld=\"134\" id=\"r\" nb=\"LAW\" nd=\"132982\"><span>редакции</span></q><span>)</span></span></div></div>\n",
      "<a name=\"dst1128\"></a><div class=\"U\" id=\"pl4223\" style=\"text-indent:9.64mm;\"><span class=\"blk\"><span>наказываются лишением свободы на срок от трех до десяти лет со штрафом в размере до пятисот тысяч рублей или в размере заработной платы или иного дохода осужденного за период до трех лет либо без такового и с ограничением свободы на срок до одного года либо без такового.</span></span></div>\n",
      "<div class=\"insert nf pmrf\"><div class=\"U pmr\" id=\"pl4224\"><span class=\"blk\"><span>(в ред. Федерального </span><a href=\"/document/Cons_doc_LAW_126740/b004fed0b70d0f223e4a81f8ad6cd92af90a7e3b/#dst100029\"><span>закона</span></a><span> от 01.03.2012 N 18-ФЗ)</span></span></div></div>\n",
      "<div class=\"insert nf pmrl\"><div class=\"UP pmr\" id=\"pl4225\"><span class=\"blk\"><span>(см. текст в предыдущей </span><q class=\"r\" dst=\"6\" fld=\"134\" id=\"r\" nb=\"LAW\" nd=\"132982\"><span>редакции</span></q><span>)</span></span></div></div>\n",
      "<a name=\"dst1129\"></a><div class=\"U\" id=\"pl4226\" style=\"text-indent:9.64mm;\">\n",
      "<q class=\"br\" id=\"bkimg_cr\" para=\"4285\" refdst=\"1129,0\"></q><span class=\"blk\"><span>3. Те же деяния, совершенные в особо крупном размере, -</span></span>\n",
      "</div>\n",
      "<a name=\"dst1130\"></a><div class=\"U\" id=\"pl4227\" style=\"text-indent:9.64mm;\"><span class=\"blk\"><span>наказываются лишением свободы на срок от десяти до пятнадцати лет со штрафом в размере до пятисот тысяч рублей или в размере заработной платы или иного дохода осужденного за период до трех лет либо без такового и с ограничением свободы на срок до полутора лет либо без такового.</span></span></div>\n",
      "<div class=\"insert nf pmrf pmrl\"><div class=\"U pmr\" id=\"pl4228\"><span class=\"blk\"><span>(часть 3 введена Федеральным </span><a href=\"/document/Cons_doc_LAW_126740/b004fed0b70d0f223e4a81f8ad6cd92af90a7e3b/#dst100030\"><span>законом</span></a><span> от 01.03.2012 N 18-ФЗ)</span></span></div></div>\n",
      "<a name=\"dst152\"></a><div class=\"U\" id=\"pl4229\" style=\"text-indent:9.64mm;\">\n",
      "<q class=\"br\" id=\"bkimg_f\" para=\"4288\" refdst=\"152,0\"></q><span class=\"blk\"><span>Примечания. 1. Лицо, совершившее предусмотренное настоящей статьей преступление, </span><a href=\"/document/Cons_doc_LAW_61074/#dst100123\"><span>добровольно</span></a><span> сдавшее наркотические средства, психотропные вещества или их аналоги, растения, содержащие наркотические средства или психотропные вещества, либо их части, содержащие наркотические средства или психотропные вещества, и активно способствовавшее раскрытию или пресечению преступлений, связанных с незаконным оборотом указанных средств, веществ или их аналогов, а также с незаконными приобретением, хранением, перевозкой таких растений либо их частей, содержащих наркотические средства или психотропные вещества, изобличению лиц, их совершивших, обнаружению имущества, добытого преступным путем, освобождается от уголовной ответственности за данное преступление. Не может признаваться добровольной сдачей наркотических средств, психотропных веществ или их аналогов, растений, содержащих наркотические средства или психотропные вещества, либо их частей, содержащих наркотические средства или психотропные вещества, изъятие указанных средств, веществ или их аналогов, таких растений либо их частей, содержащих наркотические средства или психотропные вещества, при задержании лица и при производстве следственных действий по обнаружению и изъятию указанных средств, веществ или их аналогов, таких растений либо их частей, содержащих наркотические средства или психотропные вещества.</span></span>\n",
      "</div>\n",
      "<div class=\"insert nf pmrf\"><div class=\"U pmr\" id=\"pl4230\"><span class=\"blk\"><span>(п. 1 в ред. Федерального </span><a href=\"/document/Cons_doc_LAW_100518/3d0cac60971a511280cbba229d9b6329c07731f7/#dst100014\"><span>закона</span></a><span> от 19.05.2010 N 87-ФЗ)</span></span></div></div>\n",
      "<div class=\"insert nf pmrl\"><div class=\"UP pmr\" id=\"pl4231\"><span class=\"blk\"><span>(см. текст в предыдущей </span><q class=\"r\" dst=\"7\" fld=\"134\" id=\"r\" nb=\"LAW\" nd=\"102884\"><span>редакции</span></q><span>)</span></span></div></div>\n",
      "<a name=\"dst1131\"></a><div class=\"U\" id=\"pl4232\" style=\"text-indent:9.64mm;\">\n",
      "<q class=\"br\" id=\"bkimg_cr\" para=\"4291\" refdst=\"1131,0\"></q><span class=\"blk\"><span>2. Значительный, крупный и особо крупный </span><a href=\"/document/Cons_doc_LAW_136206/8c2bb85136d7f4c30dad60755a50550a31b7705e/#dst100032\"><span>размеры</span></a><span> наркотических средств и психотропных веществ, а также значительный, крупный и особо крупный </span><a href=\"/document/Cons_doc_LAW_136206/5763ccc9649a10040d5ce95f8ea21eb66b5c6063/#dst100370\"><span>размеры</span></a><span> для растений, содержащих наркотические средства или психотропные вещества, либо их частей, содержащих наркотические средства или психотропные вещества, для целей настоящей статьи, </span><a href=\"/document/Cons_doc_LAW_10699/c6e15d3f1ba69acd08e0639594df466ecdf1958d/#dst154\"><span>статей 228.1</span></a><span>, </span><a href=\"/document/Cons_doc_LAW_10699/8a8770950cc85acf85c3068c02e0d31aea7900d0/#dst157\"><span>229</span></a><span> и </span><a href=\"/document/Cons_doc_LAW_10699/82872099e82da083817266ed0dfddfda60d45d90/#dst864\"><span>229.1</span></a><span> настоящего Кодекса утверждаются Правительством Российской Федерации.</span></span>\n",
      "</div>\n",
      "<div class=\"insert nf pmrf\"><div class=\"U pmr\" id=\"pl4233\"><span class=\"blk\"><span>(в ред. Федеральных законов от 19.05.2010 </span><a href=\"/document/Cons_doc_LAW_100518/3d0cac60971a511280cbba229d9b6329c07731f7/#dst100016\"><span>N 87-ФЗ</span></a><span>, от 07.12.2011 </span><a href=\"/document/Cons_doc_LAW_122864/3d0cac60971a511280cbba229d9b6329c07731f7/#dst100549\"><span>N 420-ФЗ</span></a><span>, от 01.03.2012 </span><a href=\"/document/Cons_doc_LAW_126740/b004fed0b70d0f223e4a81f8ad6cd92af90a7e3b/#dst100034\"><span>N 18-ФЗ</span></a><span>)</span></span></div></div>\n",
      "<div class=\"insert nf pmrl\"><div class=\"UP pmr\" id=\"pl4234\"><span class=\"blk\"><span>(см. текст в предыдущей </span><q class=\"r\" dst=\"153\" fld=\"134\" id=\"r\" nb=\"LAW\" nd=\"132982\"><span>редакции</span></q><span>)</span></span></div></div>\n",
      "<a name=\"dst1132\"></a><div class=\"U\" id=\"pl4235\" style=\"text-indent:9.64mm;\"><span class=\"blk\"><span>3. Значительный, крупный и особо крупный размеры аналогов наркотических средств и психотропных веществ соответствуют значительному, крупному и особо крупному размерам наркотических средств и психотропных веществ, аналогами которых они являются.</span></span></div>\n",
      "<div class=\"insert nf pmrf\"><div class=\"U pmr\" id=\"pl4236\"><span class=\"blk\"><span>(п. 3 введен Федеральным </span><a href=\"/document/Cons_doc_LAW_57224/3d0cac60971a511280cbba229d9b6329c07731f7/#dst100012\"><span>законом</span></a><span> от 05.01.2006 N 11-ФЗ, в ред. Федерального </span><a href=\"/document/Cons_doc_LAW_126740/b004fed0b70d0f223e4a81f8ad6cd92af90a7e3b/#dst100035\"><span>закона</span></a><span> от 01.03.2012 N 18-ФЗ)</span></span></div></div>\n",
      "<div class=\"insert nf pmrl nmb\"><div class=\"UP pmr\" id=\"pl4237\"><span class=\"blk\"><span>(см. текст в предыдущей </span><q class=\"r\" dst=\"41\" fld=\"134\" id=\"r\" nb=\"LAW\" nd=\"132982\"><span>редакции</span></q><span>)</span></span></div></div>\n",
      "<div class=\"U\" id=\"pl4238\"><span class=\"blk\"> </span></div>\n",
      "</div>\n"
     ]
    }
   ],
   "source": [
    "print unicode(x)"
   ]
  },
  {
   "cell_type": "code",
   "execution_count": 44,
   "metadata": {
    "collapsed": false
   },
   "outputs": [
    {
     "name": "stdout",
     "output_type": "stream",
     "text": [
      "\n",
      "\n",
      "\n",
      "УК РФ, Статья 228. Незаконные приобретение, хранение, перевозка, изготовление, переработка наркотических средств, психотропных веществ или их аналогов, а также незаконные приобретение, хранение, перевозка растений, содержащих наркотические средства или психотропные вещества, либо их частей, содержащих наркотические средства или психотропные вещества\n",
      "\n",
      "\n",
      "(в ред. Федерального закона от 19.05.2010 N 87-ФЗ)\n",
      "(см. текст в предыдущей редакции)\n",
      " \n",
      "\n",
      "(в ред. Федерального закона от 08.12.2003 N 162-ФЗ)\n",
      "\n",
      "(см. текст в предыдущей редакции)\n",
      " \n",
      "\n",
      "1. Незаконные приобретение, хранение, перевозка, изготовление, переработка без цели сбыта наркотических средств, психотропных веществ или их аналогов в значительном размере, а также незаконные приобретение, хранение, перевозка без цели сбыта растений, содержащих наркотические средства или психотропные вещества, либо их частей, содержащих наркотические средства или психотропные вещества, в значительном размере -\n",
      "\n",
      "(в ред. Федерального закона от 01.03.2012 N 18-ФЗ)\n",
      "(см. текст в предыдущей редакции)\n",
      "наказываются штрафом в размере до сорока тысяч рублей или в размере заработной платы или иного дохода осужденного за период до трех месяцев, либо обязательными работами на срок до четырехсот восьмидесяти часов, либо исправительными работами на срок до двух лет, либо ограничением свободы на срок до трех лет, либо лишением свободы на тот же срок.\n",
      "(в ред. Федеральных законов от 27.12.2009 N 377-ФЗ, от 06.05.2010 N 81-ФЗ, от 07.12.2011 N 420-ФЗ)\n",
      "(см. текст в предыдущей редакции)\n",
      "\n",
      "2. Те же деяния, совершенные в крупном размере, -\n",
      "\n",
      "(в ред. Федерального закона от 01.03.2012 N 18-ФЗ)\n",
      "(см. текст в предыдущей редакции)\n",
      "наказываются лишением свободы на срок от трех до десяти лет со штрафом в размере до пятисот тысяч рублей или в размере заработной платы или иного дохода осужденного за период до трех лет либо без такового и с ограничением свободы на срок до одного года либо без такового.\n",
      "(в ред. Федерального закона от 01.03.2012 N 18-ФЗ)\n",
      "(см. текст в предыдущей редакции)\n",
      "\n",
      "3. Те же деяния, совершенные в особо крупном размере, -\n",
      "\n",
      "наказываются лишением свободы на срок от десяти до пятнадцати лет со штрафом в размере до пятисот тысяч рублей или в размере заработной платы или иного дохода осужденного за период до трех лет либо без такового и с ограничением свободы на срок до полутора лет либо без такового.\n",
      "(часть 3 введена Федеральным законом от 01.03.2012 N 18-ФЗ)\n",
      "\n",
      "Примечания. 1. Лицо, совершившее предусмотренное настоящей статьей преступление, добровольно сдавшее наркотические средства, психотропные вещества или их аналоги, растения, содержащие наркотические средства или психотропные вещества, либо их части, содержащие наркотические средства или психотропные вещества, и активно способствовавшее раскрытию или пресечению преступлений, связанных с незаконным оборотом указанных средств, веществ или их аналогов, а также с незаконными приобретением, хранением, перевозкой таких растений либо их частей, содержащих наркотические средства или психотропные вещества, изобличению лиц, их совершивших, обнаружению имущества, добытого преступным путем, освобождается от уголовной ответственности за данное преступление. Не может признаваться добровольной сдачей наркотических средств, психотропных веществ или их аналогов, растений, содержащих наркотические средства или психотропные вещества, либо их частей, содержащих наркотические средства или психотропные вещества, изъятие указанных средств, веществ или их аналогов, таких растений либо их частей, содержащих наркотические средства или психотропные вещества, при задержании лица и при производстве следственных действий по обнаружению и изъятию указанных средств, веществ или их аналогов, таких растений либо их частей, содержащих наркотические средства или психотропные вещества.\n",
      "\n",
      "(п. 1 в ред. Федерального закона от 19.05.2010 N 87-ФЗ)\n",
      "(см. текст в предыдущей редакции)\n",
      "\n",
      "2. Значительный, крупный и особо крупный размеры наркотических средств и психотропных веществ, а также значительный, крупный и особо крупный размеры для растений, содержащих наркотические средства или психотропные вещества, либо их частей, содержащих наркотические средства или психотропные вещества, для целей настоящей статьи, статей 228.1, 229 и 229.1 настоящего Кодекса утверждаются Правительством Российской Федерации.\n",
      "\n",
      "(в ред. Федеральных законов от 19.05.2010 N 87-ФЗ, от 07.12.2011 N 420-ФЗ, от 01.03.2012 N 18-ФЗ)\n",
      "(см. текст в предыдущей редакции)\n",
      "3. Значительный, крупный и особо крупный размеры аналогов наркотических средств и психотропных веществ соответствуют значительному, крупному и особо крупному размерам наркотических средств и психотропных веществ, аналогами которых они являются.\n",
      "(п. 3 введен Федеральным законом от 05.01.2006 N 11-ФЗ, в ред. Федерального закона от 01.03.2012 N 18-ФЗ)\n",
      "(см. текст в предыдущей редакции)\n",
      " \n",
      "\n"
     ]
    }
   ],
   "source": [
    "print x.text"
   ]
  },
  {
   "cell_type": "code",
   "execution_count": null,
   "metadata": {
    "collapsed": true
   },
   "outputs": [],
   "source": []
  },
  {
   "cell_type": "code",
   "execution_count": null,
   "metadata": {
    "collapsed": true
   },
   "outputs": [],
   "source": []
  }
 ],
 "metadata": {
  "kernelspec": {
   "display_name": "Python 2",
   "language": "python",
   "name": "python2"
  },
  "language_info": {
   "codemirror_mode": {
    "name": "ipython",
    "version": 2
   },
   "file_extension": ".py",
   "mimetype": "text/x-python",
   "name": "python",
   "nbconvert_exporter": "python",
   "pygments_lexer": "ipython2",
   "version": "2.7.11"
  }
 },
 "nbformat": 4,
 "nbformat_minor": 0
}
