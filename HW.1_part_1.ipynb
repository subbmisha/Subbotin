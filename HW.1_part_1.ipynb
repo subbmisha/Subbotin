{
 "cells": [
  {
   "cell_type": "markdown",
   "metadata": {},
   "source": [
    "## Point 1"
   ]
  },
  {
   "cell_type": "markdown",
   "metadata": {},
   "source": [
    "List - изменяемый тип данных, tuple - неизменяемый. В set можно добавлять tuple, его же можно использовать в качестве ключа, нельзя list (потому что он изменяемый).Dict реализован на хеш-таблице.Range - это список, xrange - это генератор, то есть используя xrange мы не храним в памяти длинный список, а генерируем числа на ходу, в отличие от range, где мы сразу создаем список (экономим память, особенно для больших чисел).List comprehension - удобная форма записи для генерации списков.Функция map применяет некоторую функцию для контейнера."
   ]
  },
  {
   "cell_type": "code",
   "execution_count": 10,
   "metadata": {
    "collapsed": true
   },
   "outputs": [],
   "source": [
    "def fib(n):\n",
    "    if n > 2:\n",
    "        return fib(n-1) + fib(n-2)\n",
    "    else:\n",
    "        return 1"
   ]
  },
  {
   "cell_type": "code",
   "execution_count": 2,
   "metadata": {
    "collapsed": false
   },
   "outputs": [
    {
     "name": "stdout",
     "output_type": "stream",
     "text": [
      "433494437\n",
      "Wall time: 2min 12s\n"
     ]
    }
   ],
   "source": [
    "%%time\n",
    "a = fib(43) #примерно с 43 начинаются проблемы\n",
    "print a "
   ]
  },
  {
   "cell_type": "code",
   "execution_count": 11,
   "metadata": {
    "collapsed": true
   },
   "outputs": [],
   "source": [
    "import math"
   ]
  },
  {
   "cell_type": "code",
   "execution_count": 12,
   "metadata": {
    "collapsed": false
   },
   "outputs": [],
   "source": [
    "def comp(a, b):\n",
    "    '''Comp(a,b) is a function, which returns module and argument of the complex number.It's enter parametres a =Re(z), b = Im(z)\n",
    "    '''\n",
    "    mod  = math.hypot(a, b)\n",
    "    if b != 0:\n",
    "        arg = math.atan(float(a)/b)\n",
    "        return (mod, arg)\n",
    "    elif b == 0 and a <= 0:\n",
    "        return (mod,-math.pi/2)\n",
    "    else:\n",
    "        return (mod,math.pi/2)\n",
    "    if __name__ in (\"__main__\", \"__console__\"): \n",
    "        import doctest \n",
    "        doctest.testmod(verbose=True) \n",
    "        "
   ]
  },
  {
   "cell_type": "code",
   "execution_count": 5,
   "metadata": {
    "collapsed": false
   },
   "outputs": [
    {
     "name": "stdout",
     "output_type": "stream",
     "text": [
      "(1.4142135623730951, 0.7853981633974483) <type 'tuple'>\n"
     ]
    }
   ],
   "source": [
    "z = comp(1,1)\n",
    "print z, type(z)"
   ]
  },
  {
   "cell_type": "code",
   "execution_count": 6,
   "metadata": {
    "collapsed": false
   },
   "outputs": [
    {
     "name": "stdout",
     "output_type": "stream",
     "text": [
      "(11.0, 1.5707963267948966) <type 'tuple'>\n"
     ]
    }
   ],
   "source": [
    "z = comp(11,0)\n",
    "print z, type(z)"
   ]
  },
  {
   "cell_type": "code",
   "execution_count": 7,
   "metadata": {
    "collapsed": false
   },
   "outputs": [
    {
     "name": "stdout",
     "output_type": "stream",
     "text": [
      "(5.0, 0.6435011087932844) <type 'tuple'>\n"
     ]
    }
   ],
   "source": [
    "z = comp(3,4)\n",
    "print z, type(z)"
   ]
  },
  {
   "cell_type": "code",
   "execution_count": 8,
   "metadata": {
    "collapsed": false
   },
   "outputs": [
    {
     "name": "stdout",
     "output_type": "stream",
     "text": [
      "Comp(a,b) is a function, which returns module and argument of the complex number.It's enter parametres a =Re(z), b = Im(z)\n",
      "    \n"
     ]
    }
   ],
   "source": [
    "print comp.__doc__"
   ]
  },
  {
   "cell_type": "markdown",
   "metadata": {},
   "source": [
    "#### task 1.6"
   ]
  },
  {
   "cell_type": "code",
   "execution_count": 47,
   "metadata": {
    "collapsed": false
   },
   "outputs": [],
   "source": [
    "class compl:\n",
    "    def __init__(self, a, b):\n",
    "        self.a = a\n",
    "        self.b = b\n",
    "        \n",
    "    @property\n",
    "    def real(self):\n",
    "        return self.a\n",
    "    \n",
    "    @real.setter\n",
    "    def real(self, a):\n",
    "        self.real = a\n",
    "        \n",
    "    @property\n",
    "    def imag(self):\n",
    "        return self.b\n",
    "    \n",
    "    @imag.setter\n",
    "    def imag(self, b):\n",
    "        self.imag = b\n",
    "        \n",
    "    def mod(self):\n",
    "        mod  = math.hypot(self.a, self.b)\n",
    "        return mod\n",
    "    def argum(self):\n",
    "        if self.b != 0:\n",
    "            arg = math.atan(float(self.a)/self.b)\n",
    "            return (arg)\n",
    "        elif b == 0 and a <= 0:\n",
    "            return (-math.pi/2)\n",
    "        else:\n",
    "            return (math.pi/2)\n",
    "    def __add__(self, other):\n",
    "        return compl(self.a + other.a, self.b + other.b)\n",
    "    \n",
    "    def __sub__(self, other):\n",
    "        return compl(self.a - other.a, self.b - other.b)\n",
    "        "
   ]
  },
  {
   "cell_type": "code",
   "execution_count": 37,
   "metadata": {
    "collapsed": true
   },
   "outputs": [],
   "source": [
    "x = compl(3, 4)\n",
    "y = compl(0, 1)"
   ]
  },
  {
   "cell_type": "code",
   "execution_count": 38,
   "metadata": {
    "collapsed": false
   },
   "outputs": [
    {
     "name": "stdout",
     "output_type": "stream",
     "text": [
      "5.0\n"
     ]
    }
   ],
   "source": [
    "print x.mod()"
   ]
  },
  {
   "cell_type": "code",
   "execution_count": 39,
   "metadata": {
    "collapsed": false
   },
   "outputs": [
    {
     "name": "stdout",
     "output_type": "stream",
     "text": [
      "0.643501108793\n"
     ]
    }
   ],
   "source": [
    "print x.argum()"
   ]
  }
 ],
 "metadata": {
  "kernelspec": {
   "display_name": "Python 2",
   "language": "python",
   "name": "python2"
  },
  "language_info": {
   "codemirror_mode": {
    "name": "ipython",
    "version": 2
   },
   "file_extension": ".py",
   "mimetype": "text/x-python",
   "name": "python",
   "nbconvert_exporter": "python",
   "pygments_lexer": "ipython2",
   "version": "2.7.11"
  }
 },
 "nbformat": 4,
 "nbformat_minor": 0
}
